{
 "cells": [
  {
   "cell_type": "code",
   "execution_count": null,
   "id": "f4996121",
   "metadata": {},
   "outputs": [],
   "source": [
    "#Q1:\n",
    "from sklearn.model_selection import train_test_split"
   ]
  },
  {
   "cell_type": "code",
   "execution_count": 24,
   "id": "1e4096a5",
   "metadata": {},
   "outputs": [
    {
     "name": "stdout",
     "output_type": "stream",
     "text": [
      "<method-wrapper '__str__' of function object at 0x000002083C78C2C0>\n",
      "<method-wrapper '__str__' of function object at 0x000002083C78C2C0>\n",
      "<method-wrapper '__str__' of function object at 0x000002083C78C2C0>\n",
      "<method-wrapper '__str__' of function object at 0x000002083C78C2C0>\n",
      "<method-wrapper '__str__' of function object at 0x000002083C78C2C0>\n",
      "<method-wrapper '__str__' of function object at 0x000002083C78C2C0>\n",
      "<method-wrapper '__str__' of function object at 0x000002083C78C2C0>\n",
      "<method-wrapper '__str__' of function object at 0x000002083C78C2C0>\n",
      "<method-wrapper '__str__' of function object at 0x000002083C78C2C0>\n",
      "<method-wrapper '__str__' of function object at 0x000002083C78C2C0>\n"
     ]
    }
   ],
   "source": [
    "#1\n",
    "from sklearn.datasets import load_iris as iris\n",
    "\n",
    "for i in range(10):\n",
    "    print(iris.__str__)"
   ]
  },
  {
   "cell_type": "code",
   "execution_count": null,
   "id": "da2f468d",
   "metadata": {},
   "outputs": [],
   "source": [
    "#2"
   ]
  },
  {
   "cell_type": "code",
   "execution_count": null,
   "id": "5b540210",
   "metadata": {},
   "outputs": [],
   "source": [
    "#3"
   ]
  },
  {
   "cell_type": "code",
   "execution_count": null,
   "id": "d41bd2d4",
   "metadata": {},
   "outputs": [],
   "source": [
    "#4"
   ]
  },
  {
   "cell_type": "code",
   "execution_count": null,
   "id": "2394948b",
   "metadata": {},
   "outputs": [],
   "source": [
    "#5"
   ]
  },
  {
   "cell_type": "code",
   "execution_count": null,
   "id": "349c4629",
   "metadata": {},
   "outputs": [],
   "source": [
    "#6"
   ]
  },
  {
   "cell_type": "code",
   "execution_count": 1,
   "id": "f7342228",
   "metadata": {},
   "outputs": [],
   "source": [
    "#7\n",
    "from sklearn.linear_model import LinearRegression\n",
    "\n"
   ]
  },
  {
   "cell_type": "code",
   "execution_count": null,
   "id": "4b6e592c",
   "metadata": {},
   "outputs": [],
   "source": [
    "#8"
   ]
  },
  {
   "cell_type": "code",
   "execution_count": 2,
   "id": "80ca1c02",
   "metadata": {},
   "outputs": [],
   "source": [
    "#9"
   ]
  },
  {
   "cell_type": "code",
   "execution_count": null,
   "id": "f339182f",
   "metadata": {},
   "outputs": [],
   "source": []
  },
  {
   "cell_type": "code",
   "execution_count": 19,
   "id": "bfee5181",
   "metadata": {},
   "outputs": [
    {
     "name": "stdout",
     "output_type": "stream",
     "text": [
      "Enter string: hello there how are you?\n",
      "hello\n"
     ]
    }
   ],
   "source": [
    "#Q2\n",
    "import numpy as np\n",
    "\n",
    "flag = 0\n",
    "\n",
    "st = input(\"Enter string: \")\n",
    "\n",
    "l = st.split(\" \")\n",
    "\n",
    "longest = l[0]\n",
    "shortest = l[0]\n",
    "\n",
    "for word in l:\n",
    "    if np.size(word) >= 5:\n",
    "        flag = 1\n",
    "        break\n",
    "\n",
    "for word in l:        \n",
    "    if np.size(word) < np.size(shortest):\n",
    "        shortest = word\n",
    "        \n",
    "    if np.size(longest) < np.size(word):\n",
    "        longest = word\n",
    "        \n",
    "\n",
    "if flag == 0:\n",
    "    print(shortest)\n",
    "    \n",
    "else:\n",
    "    print(longest)"
   ]
  },
  {
   "cell_type": "code",
   "execution_count": null,
   "id": "bf7c142b",
   "metadata": {},
   "outputs": [],
   "source": []
  },
  {
   "cell_type": "code",
   "execution_count": null,
   "id": "6e8fa9ff",
   "metadata": {},
   "outputs": [],
   "source": []
  }
 ],
 "metadata": {
  "kernelspec": {
   "display_name": "Python 3 (ipykernel)",
   "language": "python",
   "name": "python3"
  },
  "language_info": {
   "codemirror_mode": {
    "name": "ipython",
    "version": 3
   },
   "file_extension": ".py",
   "mimetype": "text/x-python",
   "name": "python",
   "nbconvert_exporter": "python",
   "pygments_lexer": "ipython3",
   "version": "3.11.5"
  }
 },
 "nbformat": 4,
 "nbformat_minor": 5
}
